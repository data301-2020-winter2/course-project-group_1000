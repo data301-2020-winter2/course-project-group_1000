{
 "cells": [
  {
   "cell_type": "markdown",
   "id": "cultural-force",
   "metadata": {},
   "source": [
    "### Task 1: Introduction to Markdown\n",
    "---"
   ]
  },
  {
   "cell_type": "markdown",
   "id": "continuous-cookbook",
   "metadata": {},
   "source": [
    "Jupyter Notebooks are an **extremely** powerful tool that can be used to create executable documents that contains *code*, *text*, *images* and *paragraphs*."
   ]
  },
  {
   "cell_type": "markdown",
   "id": "revolutionary-slovakia",
   "metadata": {},
   "source": [
    "##### Things to do in Task 1:\n",
    "1. use *at least* three of the listed elements in README files inside the project folder.\n",
    "2. I should have a notebook demonstrating the use of *at least* three elements. (Which is this one)"
   ]
  },
  {
   "cell_type": "markdown",
   "id": "marked-declaration",
   "metadata": {},
   "source": [
    "---\n",
    "#### Tasks to do in Milestone 2\n",
    "\n",
    "+ Task 1: Introduction to Markdown **(done)**\n",
    "+ Task 2: Introduction to Git **(done)**\n",
    "+ Task 3: Method Chaining and Python Programs\n",
    "    - Step 1: Build and test your method chains\n",
    "    - Step 2: Wrap your method chains in a function\n",
    "    - Step 3: Move your function into a new .py file\n",
    "+ Task 4: Conduct an EDA on the dataset\n",
    "+ Conduct your analysis to help answer your research questions"
   ]
  }
 ],
 "metadata": {
  "kernelspec": {
   "display_name": "Python 3",
   "language": "python",
   "name": "python3"
  },
  "language_info": {
   "codemirror_mode": {
    "name": "ipython",
    "version": 3
   },
   "file_extension": ".py",
   "mimetype": "text/x-python",
   "name": "python",
   "nbconvert_exporter": "python",
   "pygments_lexer": "ipython3",
   "version": "3.9.0"
  }
 },
 "nbformat": 4,
 "nbformat_minor": 5
}
