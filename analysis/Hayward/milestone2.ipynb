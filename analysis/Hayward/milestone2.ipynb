{
 "cells": [
  {
   "cell_type": "markdown",
   "id": "alternate-flavor",
   "metadata": {},
   "source": [
    "# Milestone 2"
   ]
  },
  {
   "cell_type": "markdown",
   "id": "excellent-water",
   "metadata": {},
   "source": [
    "Hayward Chow (Student no. 28684314)\n",
    "\n",
    "---"
   ]
  },
  {
   "cell_type": "markdown",
   "id": "under-spiritual",
   "metadata": {},
   "source": [
    "# Task 3"
   ]
  },
  {
   "cell_type": "markdown",
   "id": "taken-crash",
   "metadata": {},
   "source": [
    "## **Step 1: Build and test method chain(s)**"
   ]
  },
  {
   "cell_type": "markdown",
   "id": "raised-sheep",
   "metadata": {},
   "source": [
    "### Importing Required Libraries\n",
    "To setup the python function, the necessary libraries will be imported. Libraries used include: *Pandas*, *Numpy*, *Matplotlib*,and *Seaborn* "
   ]
  },
  {
   "cell_type": "code",
   "execution_count": 52,
   "id": "phantom-marathon",
   "metadata": {},
   "outputs": [],
   "source": [
    "import numpy as np\n",
    "import pandas as pd\n",
    "import seaborn as sns\n",
    "import matplotlib.pyplot as plt"
   ]
  },
  {
   "cell_type": "markdown",
   "id": "spectacular-earth",
   "metadata": {},
   "source": [
    "### Medical_Cost dataframe (raw)"
   ]
  },
  {
   "cell_type": "code",
   "execution_count": 53,
   "id": "above-impact",
   "metadata": {},
   "outputs": [
    {
     "data": {
      "text/html": [
       "<div>\n",
       "<style scoped>\n",
       "    .dataframe tbody tr th:only-of-type {\n",
       "        vertical-align: middle;\n",
       "    }\n",
       "\n",
       "    .dataframe tbody tr th {\n",
       "        vertical-align: top;\n",
       "    }\n",
       "\n",
       "    .dataframe thead th {\n",
       "        text-align: right;\n",
       "    }\n",
       "</style>\n",
       "<table border=\"1\" class=\"dataframe\">\n",
       "  <thead>\n",
       "    <tr style=\"text-align: right;\">\n",
       "      <th></th>\n",
       "      <th>age</th>\n",
       "      <th>sex</th>\n",
       "      <th>bmi</th>\n",
       "      <th>children</th>\n",
       "      <th>smoker</th>\n",
       "      <th>region</th>\n",
       "      <th>charges</th>\n",
       "    </tr>\n",
       "  </thead>\n",
       "  <tbody>\n",
       "    <tr>\n",
       "      <th>0</th>\n",
       "      <td>19</td>\n",
       "      <td>female</td>\n",
       "      <td>27.900</td>\n",
       "      <td>0</td>\n",
       "      <td>yes</td>\n",
       "      <td>southwest</td>\n",
       "      <td>16884.92400</td>\n",
       "    </tr>\n",
       "    <tr>\n",
       "      <th>1</th>\n",
       "      <td>18</td>\n",
       "      <td>male</td>\n",
       "      <td>33.770</td>\n",
       "      <td>1</td>\n",
       "      <td>no</td>\n",
       "      <td>southeast</td>\n",
       "      <td>1725.55230</td>\n",
       "    </tr>\n",
       "    <tr>\n",
       "      <th>2</th>\n",
       "      <td>28</td>\n",
       "      <td>male</td>\n",
       "      <td>33.000</td>\n",
       "      <td>3</td>\n",
       "      <td>no</td>\n",
       "      <td>southeast</td>\n",
       "      <td>4449.46200</td>\n",
       "    </tr>\n",
       "    <tr>\n",
       "      <th>3</th>\n",
       "      <td>33</td>\n",
       "      <td>male</td>\n",
       "      <td>22.705</td>\n",
       "      <td>0</td>\n",
       "      <td>no</td>\n",
       "      <td>northwest</td>\n",
       "      <td>21984.47061</td>\n",
       "    </tr>\n",
       "    <tr>\n",
       "      <th>4</th>\n",
       "      <td>32</td>\n",
       "      <td>male</td>\n",
       "      <td>28.880</td>\n",
       "      <td>0</td>\n",
       "      <td>no</td>\n",
       "      <td>northwest</td>\n",
       "      <td>3866.85520</td>\n",
       "    </tr>\n",
       "    <tr>\n",
       "      <th>...</th>\n",
       "      <td>...</td>\n",
       "      <td>...</td>\n",
       "      <td>...</td>\n",
       "      <td>...</td>\n",
       "      <td>...</td>\n",
       "      <td>...</td>\n",
       "      <td>...</td>\n",
       "    </tr>\n",
       "    <tr>\n",
       "      <th>1333</th>\n",
       "      <td>50</td>\n",
       "      <td>male</td>\n",
       "      <td>30.970</td>\n",
       "      <td>3</td>\n",
       "      <td>no</td>\n",
       "      <td>northwest</td>\n",
       "      <td>10600.54830</td>\n",
       "    </tr>\n",
       "    <tr>\n",
       "      <th>1334</th>\n",
       "      <td>18</td>\n",
       "      <td>female</td>\n",
       "      <td>31.920</td>\n",
       "      <td>0</td>\n",
       "      <td>no</td>\n",
       "      <td>northeast</td>\n",
       "      <td>2205.98080</td>\n",
       "    </tr>\n",
       "    <tr>\n",
       "      <th>1335</th>\n",
       "      <td>18</td>\n",
       "      <td>female</td>\n",
       "      <td>36.850</td>\n",
       "      <td>0</td>\n",
       "      <td>no</td>\n",
       "      <td>southeast</td>\n",
       "      <td>1629.83350</td>\n",
       "    </tr>\n",
       "    <tr>\n",
       "      <th>1336</th>\n",
       "      <td>21</td>\n",
       "      <td>female</td>\n",
       "      <td>25.800</td>\n",
       "      <td>0</td>\n",
       "      <td>no</td>\n",
       "      <td>southwest</td>\n",
       "      <td>2007.94500</td>\n",
       "    </tr>\n",
       "    <tr>\n",
       "      <th>1337</th>\n",
       "      <td>61</td>\n",
       "      <td>female</td>\n",
       "      <td>29.070</td>\n",
       "      <td>0</td>\n",
       "      <td>yes</td>\n",
       "      <td>northwest</td>\n",
       "      <td>29141.36030</td>\n",
       "    </tr>\n",
       "  </tbody>\n",
       "</table>\n",
       "<p>1338 rows × 7 columns</p>\n",
       "</div>"
      ],
      "text/plain": [
       "      age     sex     bmi  children smoker     region      charges\n",
       "0      19  female  27.900         0    yes  southwest  16884.92400\n",
       "1      18    male  33.770         1     no  southeast   1725.55230\n",
       "2      28    male  33.000         3     no  southeast   4449.46200\n",
       "3      33    male  22.705         0     no  northwest  21984.47061\n",
       "4      32    male  28.880         0     no  northwest   3866.85520\n",
       "...   ...     ...     ...       ...    ...        ...          ...\n",
       "1333   50    male  30.970         3     no  northwest  10600.54830\n",
       "1334   18  female  31.920         0     no  northeast   2205.98080\n",
       "1335   18  female  36.850         0     no  southeast   1629.83350\n",
       "1336   21  female  25.800         0     no  southwest   2007.94500\n",
       "1337   61  female  29.070         0    yes  northwest  29141.36030\n",
       "\n",
       "[1338 rows x 7 columns]"
      ]
     },
     "execution_count": 53,
     "metadata": {},
     "output_type": "execute_result"
    }
   ],
   "source": [
    "df = pd.read_csv('Medical_Cost.csv')\n",
    "df"
   ]
  },
  {
   "cell_type": "markdown",
   "id": "provincial-tucson",
   "metadata": {},
   "source": [
    "---\n",
    "## **Data Cleaning & Wrangling**"
   ]
  },
  {
   "cell_type": "markdown",
   "id": "tired-cowboy",
   "metadata": {},
   "source": [
    "Data cleaning is not required as there are no empty/null or NAN values within our dataset. However, in order to improve the raw data for easier and more convenient analyis, we can change the way certain attributes are sorted or displayed.\n",
    "\n",
    "**Things to change on the dataset**\n",
    "1. Renaming attributes for clarity, by capitalizing the first letter or abbreviations (such as BMI).\n",
    "2. Renaming data for 'Smoker' attribute from 'Yes' -> 'Y' and 'No' -> 'N'.\n",
    "3. Round data for 'Charges' and 'BMI' attributes to 2 decimal places.\n",
    "4. Change 'Region' into abbreviations.\n",
    "5. Sort the Dataset by Charges (descending)."
   ]
  },
  {
   "cell_type": "markdown",
   "id": "ancient-kidney",
   "metadata": {},
   "source": [
    "### Create a new dataframe for modifications"
   ]
  },
  {
   "cell_type": "code",
   "execution_count": 7,
   "id": "suspended-imperial",
   "metadata": {},
   "outputs": [],
   "source": [
    "df2 = df"
   ]
  },
  {
   "cell_type": "markdown",
   "id": "modified-merchandise",
   "metadata": {},
   "source": [
    "### 1. Renaming attributes"
   ]
  },
  {
   "cell_type": "markdown",
   "id": "received-engine",
   "metadata": {},
   "source": [
    "Capitalize column names or abbreviations. For example: 'children' -> 'Children' **or** 'bmi' -> 'BMI'."
   ]
  },
  {
   "cell_type": "code",
   "execution_count": 8,
   "id": "earlier-remove",
   "metadata": {},
   "outputs": [],
   "source": [
    "df2 = df2.rename(columns = {'age': 'Age', 'sex': 'Gender', 'bmi': 'BMI', 'children': 'Children', 'smoker': 'Smoker', 'region': 'Region', 'charges': 'Charges'})"
   ]
  },
  {
   "cell_type": "markdown",
   "id": "excited-cleveland",
   "metadata": {},
   "source": [
    "### 2. Rename \"Smoker\" attribute data from \"yes/no\" to \"Y/N:"
   ]
  },
  {
   "cell_type": "code",
   "execution_count": 9,
   "id": "dense-cleaning",
   "metadata": {},
   "outputs": [],
   "source": [
    "df2 = df2.replace({'yes': 'Y', 'no': 'N'})"
   ]
  },
  {
   "cell_type": "markdown",
   "id": "blessed-reaction",
   "metadata": {},
   "source": [
    "### 3. Round data for attributes \"Charges\" and \"BMI\" to two decimal places"
   ]
  },
  {
   "cell_type": "code",
   "execution_count": 10,
   "id": "downtown-international",
   "metadata": {},
   "outputs": [],
   "source": [
    "df2 = df2.round({'Charges': 2, 'BMI': 2})"
   ]
  },
  {
   "cell_type": "markdown",
   "id": "dynamic-delay",
   "metadata": {},
   "source": [
    "### 4. Change Region into abbreviations"
   ]
  },
  {
   "cell_type": "code",
   "execution_count": 11,
   "id": "hearing-affiliation",
   "metadata": {},
   "outputs": [],
   "source": [
    "df2 = df2.replace({'southwest': 'SW', 'southeast': 'SE', 'northeast': 'NE', 'northwest': 'NW'})"
   ]
  },
  {
   "cell_type": "markdown",
   "id": "light-athens",
   "metadata": {},
   "source": [
    "### 5. Sort the dataset by Charges from highest to lowest(descending)"
   ]
  },
  {
   "cell_type": "code",
   "execution_count": 12,
   "id": "refined-alignment",
   "metadata": {},
   "outputs": [],
   "source": [
    "df2 = df2.sort_values('Charges', ascending = False)"
   ]
  },
  {
   "cell_type": "markdown",
   "id": "light-wealth",
   "metadata": {},
   "source": [
    "---\n",
    "## **Method Chaining**"
   ]
  },
  {
   "cell_type": "markdown",
   "id": "settled-courtesy",
   "metadata": {},
   "source": [
    "By method chaining, instead of having multiple unorganized lines of code, a function is used to replace them and is more organized, clear and easy to read."
   ]
  },
  {
   "cell_type": "markdown",
   "id": "spectacular-delay",
   "metadata": {},
   "source": [
    "### Constructing Method Chain"
   ]
  },
  {
   "cell_type": "code",
   "execution_count": 13,
   "id": "another-texture",
   "metadata": {},
   "outputs": [],
   "source": [
    "df2 = (\n",
    "    pd.read_csv('Medical_Cost.csv')\n",
    "    .rename(columns = {'age': 'Age', 'sex': 'Gender', 'bmi': 'BMI', 'children': 'Children', 'smoker': 'Smoker', 'region': 'Region', 'charges': 'Charges'})\n",
    "    .replace({'yes': 'Y', 'no': 'N'})\n",
    "    .round({'Charges': 2, 'BMI': 2})\n",
    "    .replace({'southwest': 'SW', 'southeast': 'SE', 'northeast': 'NE', 'northwest': 'NW'})\n",
    "    .sort_values('Charges', ascending = False)\n",
    ")"
   ]
  },
  {
   "cell_type": "markdown",
   "id": "center-antenna",
   "metadata": {},
   "source": [
    "### Comparing old dataframe with new dataframe\n",
    "As seen below, the first dataframe is the original and the second is the one that has been edited using data wrangling to provide a more organized and easy to read dataframe. "
   ]
  },
  {
   "cell_type": "code",
   "execution_count": 14,
   "id": "polyphonic-enclosure",
   "metadata": {},
   "outputs": [
    {
     "data": {
      "text/html": [
       "<div>\n",
       "<style scoped>\n",
       "    .dataframe tbody tr th:only-of-type {\n",
       "        vertical-align: middle;\n",
       "    }\n",
       "\n",
       "    .dataframe tbody tr th {\n",
       "        vertical-align: top;\n",
       "    }\n",
       "\n",
       "    .dataframe thead th {\n",
       "        text-align: right;\n",
       "    }\n",
       "</style>\n",
       "<table border=\"1\" class=\"dataframe\">\n",
       "  <thead>\n",
       "    <tr style=\"text-align: right;\">\n",
       "      <th></th>\n",
       "      <th>age</th>\n",
       "      <th>sex</th>\n",
       "      <th>bmi</th>\n",
       "      <th>children</th>\n",
       "      <th>smoker</th>\n",
       "      <th>region</th>\n",
       "      <th>charges</th>\n",
       "    </tr>\n",
       "  </thead>\n",
       "  <tbody>\n",
       "    <tr>\n",
       "      <th>0</th>\n",
       "      <td>19</td>\n",
       "      <td>female</td>\n",
       "      <td>27.900</td>\n",
       "      <td>0</td>\n",
       "      <td>yes</td>\n",
       "      <td>southwest</td>\n",
       "      <td>16884.92400</td>\n",
       "    </tr>\n",
       "    <tr>\n",
       "      <th>1</th>\n",
       "      <td>18</td>\n",
       "      <td>male</td>\n",
       "      <td>33.770</td>\n",
       "      <td>1</td>\n",
       "      <td>no</td>\n",
       "      <td>southeast</td>\n",
       "      <td>1725.55230</td>\n",
       "    </tr>\n",
       "    <tr>\n",
       "      <th>2</th>\n",
       "      <td>28</td>\n",
       "      <td>male</td>\n",
       "      <td>33.000</td>\n",
       "      <td>3</td>\n",
       "      <td>no</td>\n",
       "      <td>southeast</td>\n",
       "      <td>4449.46200</td>\n",
       "    </tr>\n",
       "    <tr>\n",
       "      <th>3</th>\n",
       "      <td>33</td>\n",
       "      <td>male</td>\n",
       "      <td>22.705</td>\n",
       "      <td>0</td>\n",
       "      <td>no</td>\n",
       "      <td>northwest</td>\n",
       "      <td>21984.47061</td>\n",
       "    </tr>\n",
       "    <tr>\n",
       "      <th>4</th>\n",
       "      <td>32</td>\n",
       "      <td>male</td>\n",
       "      <td>28.880</td>\n",
       "      <td>0</td>\n",
       "      <td>no</td>\n",
       "      <td>northwest</td>\n",
       "      <td>3866.85520</td>\n",
       "    </tr>\n",
       "    <tr>\n",
       "      <th>...</th>\n",
       "      <td>...</td>\n",
       "      <td>...</td>\n",
       "      <td>...</td>\n",
       "      <td>...</td>\n",
       "      <td>...</td>\n",
       "      <td>...</td>\n",
       "      <td>...</td>\n",
       "    </tr>\n",
       "    <tr>\n",
       "      <th>1333</th>\n",
       "      <td>50</td>\n",
       "      <td>male</td>\n",
       "      <td>30.970</td>\n",
       "      <td>3</td>\n",
       "      <td>no</td>\n",
       "      <td>northwest</td>\n",
       "      <td>10600.54830</td>\n",
       "    </tr>\n",
       "    <tr>\n",
       "      <th>1334</th>\n",
       "      <td>18</td>\n",
       "      <td>female</td>\n",
       "      <td>31.920</td>\n",
       "      <td>0</td>\n",
       "      <td>no</td>\n",
       "      <td>northeast</td>\n",
       "      <td>2205.98080</td>\n",
       "    </tr>\n",
       "    <tr>\n",
       "      <th>1335</th>\n",
       "      <td>18</td>\n",
       "      <td>female</td>\n",
       "      <td>36.850</td>\n",
       "      <td>0</td>\n",
       "      <td>no</td>\n",
       "      <td>southeast</td>\n",
       "      <td>1629.83350</td>\n",
       "    </tr>\n",
       "    <tr>\n",
       "      <th>1336</th>\n",
       "      <td>21</td>\n",
       "      <td>female</td>\n",
       "      <td>25.800</td>\n",
       "      <td>0</td>\n",
       "      <td>no</td>\n",
       "      <td>southwest</td>\n",
       "      <td>2007.94500</td>\n",
       "    </tr>\n",
       "    <tr>\n",
       "      <th>1337</th>\n",
       "      <td>61</td>\n",
       "      <td>female</td>\n",
       "      <td>29.070</td>\n",
       "      <td>0</td>\n",
       "      <td>yes</td>\n",
       "      <td>northwest</td>\n",
       "      <td>29141.36030</td>\n",
       "    </tr>\n",
       "  </tbody>\n",
       "</table>\n",
       "<p>1338 rows × 7 columns</p>\n",
       "</div>"
      ],
      "text/plain": [
       "      age     sex     bmi  children smoker     region      charges\n",
       "0      19  female  27.900         0    yes  southwest  16884.92400\n",
       "1      18    male  33.770         1     no  southeast   1725.55230\n",
       "2      28    male  33.000         3     no  southeast   4449.46200\n",
       "3      33    male  22.705         0     no  northwest  21984.47061\n",
       "4      32    male  28.880         0     no  northwest   3866.85520\n",
       "...   ...     ...     ...       ...    ...        ...          ...\n",
       "1333   50    male  30.970         3     no  northwest  10600.54830\n",
       "1334   18  female  31.920         0     no  northeast   2205.98080\n",
       "1335   18  female  36.850         0     no  southeast   1629.83350\n",
       "1336   21  female  25.800         0     no  southwest   2007.94500\n",
       "1337   61  female  29.070         0    yes  northwest  29141.36030\n",
       "\n",
       "[1338 rows x 7 columns]"
      ]
     },
     "execution_count": 14,
     "metadata": {},
     "output_type": "execute_result"
    }
   ],
   "source": [
    "df"
   ]
  },
  {
   "cell_type": "code",
   "execution_count": 15,
   "id": "traditional-omega",
   "metadata": {},
   "outputs": [
    {
     "data": {
      "text/html": [
       "<div>\n",
       "<style scoped>\n",
       "    .dataframe tbody tr th:only-of-type {\n",
       "        vertical-align: middle;\n",
       "    }\n",
       "\n",
       "    .dataframe tbody tr th {\n",
       "        vertical-align: top;\n",
       "    }\n",
       "\n",
       "    .dataframe thead th {\n",
       "        text-align: right;\n",
       "    }\n",
       "</style>\n",
       "<table border=\"1\" class=\"dataframe\">\n",
       "  <thead>\n",
       "    <tr style=\"text-align: right;\">\n",
       "      <th></th>\n",
       "      <th>Age</th>\n",
       "      <th>Gender</th>\n",
       "      <th>BMI</th>\n",
       "      <th>Children</th>\n",
       "      <th>Smoker</th>\n",
       "      <th>Region</th>\n",
       "      <th>Charges</th>\n",
       "    </tr>\n",
       "  </thead>\n",
       "  <tbody>\n",
       "    <tr>\n",
       "      <th>543</th>\n",
       "      <td>54</td>\n",
       "      <td>female</td>\n",
       "      <td>47.41</td>\n",
       "      <td>0</td>\n",
       "      <td>Y</td>\n",
       "      <td>SE</td>\n",
       "      <td>63770.43</td>\n",
       "    </tr>\n",
       "    <tr>\n",
       "      <th>1300</th>\n",
       "      <td>45</td>\n",
       "      <td>male</td>\n",
       "      <td>30.36</td>\n",
       "      <td>0</td>\n",
       "      <td>Y</td>\n",
       "      <td>SE</td>\n",
       "      <td>62592.87</td>\n",
       "    </tr>\n",
       "    <tr>\n",
       "      <th>1230</th>\n",
       "      <td>52</td>\n",
       "      <td>male</td>\n",
       "      <td>34.48</td>\n",
       "      <td>3</td>\n",
       "      <td>Y</td>\n",
       "      <td>NW</td>\n",
       "      <td>60021.40</td>\n",
       "    </tr>\n",
       "    <tr>\n",
       "      <th>577</th>\n",
       "      <td>31</td>\n",
       "      <td>female</td>\n",
       "      <td>38.10</td>\n",
       "      <td>1</td>\n",
       "      <td>Y</td>\n",
       "      <td>NE</td>\n",
       "      <td>58571.07</td>\n",
       "    </tr>\n",
       "    <tr>\n",
       "      <th>819</th>\n",
       "      <td>33</td>\n",
       "      <td>female</td>\n",
       "      <td>35.53</td>\n",
       "      <td>0</td>\n",
       "      <td>Y</td>\n",
       "      <td>NW</td>\n",
       "      <td>55135.40</td>\n",
       "    </tr>\n",
       "    <tr>\n",
       "      <th>...</th>\n",
       "      <td>...</td>\n",
       "      <td>...</td>\n",
       "      <td>...</td>\n",
       "      <td>...</td>\n",
       "      <td>...</td>\n",
       "      <td>...</td>\n",
       "      <td>...</td>\n",
       "    </tr>\n",
       "    <tr>\n",
       "      <th>22</th>\n",
       "      <td>18</td>\n",
       "      <td>male</td>\n",
       "      <td>34.10</td>\n",
       "      <td>0</td>\n",
       "      <td>N</td>\n",
       "      <td>SE</td>\n",
       "      <td>1137.01</td>\n",
       "    </tr>\n",
       "    <tr>\n",
       "      <th>663</th>\n",
       "      <td>18</td>\n",
       "      <td>male</td>\n",
       "      <td>33.66</td>\n",
       "      <td>0</td>\n",
       "      <td>N</td>\n",
       "      <td>SE</td>\n",
       "      <td>1136.40</td>\n",
       "    </tr>\n",
       "    <tr>\n",
       "      <th>1244</th>\n",
       "      <td>18</td>\n",
       "      <td>male</td>\n",
       "      <td>33.33</td>\n",
       "      <td>0</td>\n",
       "      <td>N</td>\n",
       "      <td>SE</td>\n",
       "      <td>1135.94</td>\n",
       "    </tr>\n",
       "    <tr>\n",
       "      <th>808</th>\n",
       "      <td>18</td>\n",
       "      <td>male</td>\n",
       "      <td>30.14</td>\n",
       "      <td>0</td>\n",
       "      <td>N</td>\n",
       "      <td>SE</td>\n",
       "      <td>1131.51</td>\n",
       "    </tr>\n",
       "    <tr>\n",
       "      <th>940</th>\n",
       "      <td>18</td>\n",
       "      <td>male</td>\n",
       "      <td>23.21</td>\n",
       "      <td>0</td>\n",
       "      <td>N</td>\n",
       "      <td>SE</td>\n",
       "      <td>1121.87</td>\n",
       "    </tr>\n",
       "  </tbody>\n",
       "</table>\n",
       "<p>1338 rows × 7 columns</p>\n",
       "</div>"
      ],
      "text/plain": [
       "      Age  Gender    BMI  Children Smoker Region   Charges\n",
       "543    54  female  47.41         0      Y     SE  63770.43\n",
       "1300   45    male  30.36         0      Y     SE  62592.87\n",
       "1230   52    male  34.48         3      Y     NW  60021.40\n",
       "577    31  female  38.10         1      Y     NE  58571.07\n",
       "819    33  female  35.53         0      Y     NW  55135.40\n",
       "...   ...     ...    ...       ...    ...    ...       ...\n",
       "22     18    male  34.10         0      N     SE   1137.01\n",
       "663    18    male  33.66         0      N     SE   1136.40\n",
       "1244   18    male  33.33         0      N     SE   1135.94\n",
       "808    18    male  30.14         0      N     SE   1131.51\n",
       "940    18    male  23.21         0      N     SE   1121.87\n",
       "\n",
       "[1338 rows x 7 columns]"
      ]
     },
     "execution_count": 15,
     "metadata": {},
     "output_type": "execute_result"
    }
   ],
   "source": [
    "df2"
   ]
  },
  {
   "cell_type": "markdown",
   "id": "fatal-mention",
   "metadata": {},
   "source": [
    "---\n",
    "# Step 2: Wrap the Method Chain(s) in a Function"
   ]
  },
  {
   "cell_type": "markdown",
   "id": "ordered-thumb",
   "metadata": {},
   "source": [
    "### Creating function "
   ]
  },
  {
   "cell_type": "code",
   "execution_count": 16,
   "id": "dirty-river",
   "metadata": {},
   "outputs": [],
   "source": [
    "def load_and_process(csv):\n",
    "    # Method Chain 1 (load data, rename columns, round values to 2 d.p. and sort 'Charges' descending)\n",
    "    df1 = (\n",
    "        pd.read_csv('Medical_Cost.csv')\n",
    "        .rename(columns = {'age': 'Age', 'sex': 'Gender', 'bmi': 'BMI', 'children': 'Children', 'smoker': 'Smoker', 'region': 'Region', 'charges': 'Charges'})\n",
    "        .round({'Charges': 2, 'BMI': 2})\n",
    "        .sort_values('Charges', ascending = False)\n",
    "    )\n",
    "    \n",
    "    # Method Chain 2 (change yes/no to Y/N and regions to abbreviations)\n",
    "    df2 = (\n",
    "        df1\n",
    "        .replace({'yes': 'Y', 'no': 'N'})\n",
    "        .replace({'southwest': 'SW', 'southeast': 'SE', 'northeast': 'NE', 'northwest': 'NW'})\n",
    "    )\n",
    "    \n",
    "    # return values\n",
    "    return df2"
   ]
  },
  {
   "cell_type": "markdown",
   "id": "varied-intelligence",
   "metadata": {},
   "source": [
    "### Testing function"
   ]
  },
  {
   "cell_type": "code",
   "execution_count": 17,
   "id": "cathedral-jacksonville",
   "metadata": {},
   "outputs": [
    {
     "data": {
      "text/html": [
       "<div>\n",
       "<style scoped>\n",
       "    .dataframe tbody tr th:only-of-type {\n",
       "        vertical-align: middle;\n",
       "    }\n",
       "\n",
       "    .dataframe tbody tr th {\n",
       "        vertical-align: top;\n",
       "    }\n",
       "\n",
       "    .dataframe thead th {\n",
       "        text-align: right;\n",
       "    }\n",
       "</style>\n",
       "<table border=\"1\" class=\"dataframe\">\n",
       "  <thead>\n",
       "    <tr style=\"text-align: right;\">\n",
       "      <th></th>\n",
       "      <th>Age</th>\n",
       "      <th>Gender</th>\n",
       "      <th>BMI</th>\n",
       "      <th>Children</th>\n",
       "      <th>Smoker</th>\n",
       "      <th>Region</th>\n",
       "      <th>Charges</th>\n",
       "    </tr>\n",
       "  </thead>\n",
       "  <tbody>\n",
       "    <tr>\n",
       "      <th>543</th>\n",
       "      <td>54</td>\n",
       "      <td>female</td>\n",
       "      <td>47.41</td>\n",
       "      <td>0</td>\n",
       "      <td>Y</td>\n",
       "      <td>SE</td>\n",
       "      <td>63770.43</td>\n",
       "    </tr>\n",
       "    <tr>\n",
       "      <th>1300</th>\n",
       "      <td>45</td>\n",
       "      <td>male</td>\n",
       "      <td>30.36</td>\n",
       "      <td>0</td>\n",
       "      <td>Y</td>\n",
       "      <td>SE</td>\n",
       "      <td>62592.87</td>\n",
       "    </tr>\n",
       "    <tr>\n",
       "      <th>1230</th>\n",
       "      <td>52</td>\n",
       "      <td>male</td>\n",
       "      <td>34.48</td>\n",
       "      <td>3</td>\n",
       "      <td>Y</td>\n",
       "      <td>NW</td>\n",
       "      <td>60021.40</td>\n",
       "    </tr>\n",
       "    <tr>\n",
       "      <th>577</th>\n",
       "      <td>31</td>\n",
       "      <td>female</td>\n",
       "      <td>38.10</td>\n",
       "      <td>1</td>\n",
       "      <td>Y</td>\n",
       "      <td>NE</td>\n",
       "      <td>58571.07</td>\n",
       "    </tr>\n",
       "    <tr>\n",
       "      <th>819</th>\n",
       "      <td>33</td>\n",
       "      <td>female</td>\n",
       "      <td>35.53</td>\n",
       "      <td>0</td>\n",
       "      <td>Y</td>\n",
       "      <td>NW</td>\n",
       "      <td>55135.40</td>\n",
       "    </tr>\n",
       "    <tr>\n",
       "      <th>...</th>\n",
       "      <td>...</td>\n",
       "      <td>...</td>\n",
       "      <td>...</td>\n",
       "      <td>...</td>\n",
       "      <td>...</td>\n",
       "      <td>...</td>\n",
       "      <td>...</td>\n",
       "    </tr>\n",
       "    <tr>\n",
       "      <th>22</th>\n",
       "      <td>18</td>\n",
       "      <td>male</td>\n",
       "      <td>34.10</td>\n",
       "      <td>0</td>\n",
       "      <td>N</td>\n",
       "      <td>SE</td>\n",
       "      <td>1137.01</td>\n",
       "    </tr>\n",
       "    <tr>\n",
       "      <th>663</th>\n",
       "      <td>18</td>\n",
       "      <td>male</td>\n",
       "      <td>33.66</td>\n",
       "      <td>0</td>\n",
       "      <td>N</td>\n",
       "      <td>SE</td>\n",
       "      <td>1136.40</td>\n",
       "    </tr>\n",
       "    <tr>\n",
       "      <th>1244</th>\n",
       "      <td>18</td>\n",
       "      <td>male</td>\n",
       "      <td>33.33</td>\n",
       "      <td>0</td>\n",
       "      <td>N</td>\n",
       "      <td>SE</td>\n",
       "      <td>1135.94</td>\n",
       "    </tr>\n",
       "    <tr>\n",
       "      <th>808</th>\n",
       "      <td>18</td>\n",
       "      <td>male</td>\n",
       "      <td>30.14</td>\n",
       "      <td>0</td>\n",
       "      <td>N</td>\n",
       "      <td>SE</td>\n",
       "      <td>1131.51</td>\n",
       "    </tr>\n",
       "    <tr>\n",
       "      <th>940</th>\n",
       "      <td>18</td>\n",
       "      <td>male</td>\n",
       "      <td>23.21</td>\n",
       "      <td>0</td>\n",
       "      <td>N</td>\n",
       "      <td>SE</td>\n",
       "      <td>1121.87</td>\n",
       "    </tr>\n",
       "  </tbody>\n",
       "</table>\n",
       "<p>1338 rows × 7 columns</p>\n",
       "</div>"
      ],
      "text/plain": [
       "      Age  Gender    BMI  Children Smoker Region   Charges\n",
       "543    54  female  47.41         0      Y     SE  63770.43\n",
       "1300   45    male  30.36         0      Y     SE  62592.87\n",
       "1230   52    male  34.48         3      Y     NW  60021.40\n",
       "577    31  female  38.10         1      Y     NE  58571.07\n",
       "819    33  female  35.53         0      Y     NW  55135.40\n",
       "...   ...     ...    ...       ...    ...    ...       ...\n",
       "22     18    male  34.10         0      N     SE   1137.01\n",
       "663    18    male  33.66         0      N     SE   1136.40\n",
       "1244   18    male  33.33         0      N     SE   1135.94\n",
       "808    18    male  30.14         0      N     SE   1131.51\n",
       "940    18    male  23.21         0      N     SE   1121.87\n",
       "\n",
       "[1338 rows x 7 columns]"
      ]
     },
     "execution_count": 17,
     "metadata": {},
     "output_type": "execute_result"
    }
   ],
   "source": [
    "load_and_process(\"Medical_Cost.csv\")"
   ]
  },
  {
   "cell_type": "markdown",
   "id": "olympic-winner",
   "metadata": {},
   "source": [
    "The function runs properly and returns the expected output as shown in step 1."
   ]
  },
  {
   "cell_type": "markdown",
   "id": "fitting-vintage",
   "metadata": {},
   "source": [
    "---\n",
    "# Task 4: Exploratory Data Analysis (EDA)"
   ]
  },
  {
   "cell_type": "markdown",
   "id": "opened-finance",
   "metadata": {},
   "source": [
    "EDA is a process which is a part of data analysis that allows us to visually interpret the data and obtain such information to provide evidence and potential reasons for certain trends or relationships between attributes and variables."
   ]
  },
  {
   "cell_type": "markdown",
   "id": "neither-smooth",
   "metadata": {},
   "source": [
    "## Setting up dataframe and environment for analysis"
   ]
  },
  {
   "cell_type": "code",
   "execution_count": 54,
   "id": "federal-granny",
   "metadata": {},
   "outputs": [],
   "source": [
    "df = load_and_process(\"Medical_Cost.csv\")"
   ]
  },
  {
   "cell_type": "code",
   "execution_count": 55,
   "id": "junior-gathering",
   "metadata": {},
   "outputs": [],
   "source": [
    "sns.set_theme(style = \"white\", font_scale = 1.3)"
   ]
  },
  {
   "cell_type": "markdown",
   "id": "cooperative-value",
   "metadata": {},
   "source": [
    "---\n",
    "## Distribution of patients' BMI and smoking habits"
   ]
  },
  {
   "cell_type": "code",
   "execution_count": 56,
   "id": "original-microphone",
   "metadata": {},
   "outputs": [
    {
     "data": {
      "text/plain": [
       "<seaborn.axisgrid.FacetGrid at 0x7fe933dbbca0>"
      ]
     },
     "execution_count": 56,
     "metadata": {},
     "output_type": "execute_result"
    },
    {
     "data": {
      "image/png": "[encoded data removed]",
      "text/plain": [
       "<Figure size 605.565x360 with 1 Axes>"
      ]
     },
     "metadata": {},
     "output_type": "display_data"
    }
   ],
   "source": [
    "# BMI distribution\n",
    "sns.displot(df, x = 'BMI', hue = 'Smoker', bins = 25, multiple = \"stack\", aspect = 1.5).set(xlabel = \"Patient Age\", ylabel = \"Number of patients\", title = \"BMI Distribution\")"
   ]
  },
  {
   "cell_type": "markdown",
   "id": "ancient-pitch",
   "metadata": {},
   "source": [
    "The figure above shows the distribution of patients' BMI. Within this distribution, it can also be seen from the shading of the bins what portion of the patients within the BMI range are smokers and non-smokers."
   ]
  },
  {
   "cell_type": "markdown",
   "id": "acute-function",
   "metadata": {},
   "source": [
    "---\n",
    "## Relationship between medical costs and patient age"
   ]
  },
  {
   "cell_type": "markdown",
   "id": "coastal-medline",
   "metadata": {},
   "source": [
    "### Scatter plot of patient age and medical costs"
   ]
  },
  {
   "cell_type": "code",
   "execution_count": 57,
   "id": "stuck-klein",
   "metadata": {},
   "outputs": [
    {
     "data": {
      "text/plain": [
       "<seaborn.axisgrid.FacetGrid at 0x7fe933dc8910>"
      ]
     },
     "execution_count": 57,
     "metadata": {},
     "output_type": "execute_result"
    },
    {
     "data": {
      "image/png": "[encoded data removed]",
      "text/plain": [
       "<Figure size 360x360 with 1 Axes>"
      ]
     },
     "metadata": {},
     "output_type": "display_data"
    }
   ],
   "source": [
    "sns.lmplot(data = df, x = \"Age\", y = \"Charges\").set(xlabel = \"Patient Age\", ylabel = \"Medical Cost\", title = \"Age-Cost Scatter Plot\")"
   ]
  },
  {
   "cell_type": "markdown",
   "id": "dated-spyware",
   "metadata": {},
   "source": [
    "The above figure is a scatter plot of patient age and their respective medical costs. A scatter plot that shows each individual patient and their respective medical costs is very useful in looking at the correlation between the two variables. A trendline in the middle shows the potential correlation the two variables have and what kind of relationship it is. There are several very obvious and concentrated points and there is a slight upward trend that can be observed, suggesting that as older patients will have generally higher medical costs."
   ]
  },
  {
   "cell_type": "markdown",
   "id": "weighted-emperor",
   "metadata": {},
   "source": [
    "### Scatter plot of patient age and medical costs with smoking habits"
   ]
  },
  {
   "cell_type": "code",
   "execution_count": 58,
   "id": "unavailable-empty",
   "metadata": {},
   "outputs": [
    {
     "data": {
      "text/plain": [
       "<seaborn.axisgrid.FacetGrid at 0x7fe934690520>"
      ]
     },
     "execution_count": 58,
     "metadata": {},
     "output_type": "execute_result"
    },
    {
     "data": {
      "image/png": "[encoded data removed]",
      "text/plain": [
       "<Figure size 425.565x360 with 1 Axes>"
      ]
     },
     "metadata": {},
     "output_type": "display_data"
    }
   ],
   "source": [
    "sns.lmplot(data = df, x = \"Age\", y = \"Charges\", hue = \"Smoker\").set(xlabel = \"Patient Age\", ylabel = \"Medical Cost\", title = \"Age-Cost Scatter Plot\")"
   ]
  },
  {
   "cell_type": "markdown",
   "id": "generic-focus",
   "metadata": {},
   "source": [
    "Similar to the figure before, this scatter plot shows the relationship between patient age and medical costs with respect to smoking habits. In this scatter plot, there is another variable involved and it is whether these patients have smoking habits. With this new variable, the scatter plot can be said to be split into two groups, with a trendline for each, to determine any relationship between the variables. From this, it can be seen very clearly that within the patients who do not smoke, their medical costs are generally on the lower side with some potential outliers and special cases where patients could be diagnosed with rare diseases or illnesses. Also, it can be seen that the patients with smoking habits have a considerably higher medical costs and that there is generally an upward trend with both smoking and non-smoking patients, meaning as age increases, their medical costs also increase."
   ]
  },
  {
   "cell_type": "markdown",
   "id": "distinguished-convention",
   "metadata": {},
   "source": [
    "---\n",
    "## Boxplots "
   ]
  },
  {
   "cell_type": "markdown",
   "id": "related-green",
   "metadata": {},
   "source": [
    "### Boxplot for BMI"
   ]
  },
  {
   "cell_type": "code",
   "execution_count": 59,
   "id": "artificial-dictionary",
   "metadata": {},
   "outputs": [
    {
     "data": {
      "text/plain": [
       "<AxesSubplot:xlabel='BMI'>"
      ]
     },
     "execution_count": 59,
     "metadata": {},
     "output_type": "execute_result"
    },
    {
     "data": {
      "image/png": "[encoded data removed]",
      "text/plain": [
       "<Figure size 432x288 with 1 Axes>"
      ]
     },
     "metadata": {},
     "output_type": "display_data"
    }
   ],
   "source": [
    "sns.boxplot(data = df, x = \"BMI\")"
   ]
  },
  {
   "cell_type": "markdown",
   "id": "viral-republican",
   "metadata": {},
   "source": [
    "This boxplot for BMI shows the minimum and maximum values for BMI within the patients of this dataset, along with the interquartile range, which shows the spread of BMI of the middle 50% of our population in this dataset. The boxplot also shows several potential outliers which are the points shown outside of the whiskers."
   ]
  },
  {
   "cell_type": "markdown",
   "id": "disabled-configuration",
   "metadata": {},
   "source": [
    "### Boxplot for medical costs "
   ]
  },
  {
   "cell_type": "code",
   "execution_count": 60,
   "id": "bigger-treaty",
   "metadata": {},
   "outputs": [
    {
     "data": {
      "text/plain": [
       "[Text(0.5, 0, 'Medical Costs')]"
      ]
     },
     "execution_count": 60,
     "metadata": {},
     "output_type": "execute_result"
    },
    {
     "data": {
      "image/png": "[encoded data removed]",
      "text/plain": [
       "<Figure size 432x288 with 1 Axes>"
      ]
     },
     "metadata": {},
     "output_type": "display_data"
    }
   ],
   "source": [
    "sns.boxplot(data = df, x = \"Charges\").set(xlabel = \"Medical Costs\")"
   ]
  },
  {
   "cell_type": "markdown",
   "id": "quick-surname",
   "metadata": {},
   "source": [
    "In this boxplot for medical costs, the interquartile range is lower than expected and there were many outliers in this dataset. The median is also relatively low at approximately 10000. The reason of these outliers could be due to other variables such as smoking habits leading to higher medical costs."
   ]
  },
  {
   "cell_type": "markdown",
   "id": "irish-string",
   "metadata": {},
   "source": [
    "### Boxplot for medical costs with respect to smoking habits"
   ]
  },
  {
   "cell_type": "code",
   "execution_count": 61,
   "id": "compressed-oklahoma",
   "metadata": {},
   "outputs": [
    {
     "data": {
      "text/plain": [
       "[Text(0.5, 0, 'Medical Costs')]"
      ]
     },
     "execution_count": 61,
     "metadata": {},
     "output_type": "execute_result"
    },
    {
     "data": {
      "image/png": "[encoded data removed]",
      "text/plain": [
       "<Figure size 432x288 with 1 Axes>"
      ]
     },
     "metadata": {},
     "output_type": "display_data"
    }
   ],
   "source": [
    "sns.boxplot(data = df, x = \"Charges\", y = \"Smoker\").set(xlabel = \"Medical Costs\")"
   ]
  },
  {
   "cell_type": "markdown",
   "id": "potential-dodge",
   "metadata": {},
   "source": [
    "By separating the boxplot using the \"Smokers\" variable we can determine whether smoking habits are a potential cause. As shown in the boxplot above, the patients with smoking habits were not the unexpected and infact those with smoking habits have more consistent values of medical costs, with all values fitting withing the boxplot with no outliers. The outliers were all from non-smokers which could potentially be due to rare or unexpected diseases or illnesses that they may need treatment from which have lead to a higher medical cost. However, from this boxplot, we can also see that the majority of non-smokers have medical costs which are significantly lower than the patients who smoke and that the range is also significantly smaller and potential medical costs are relatively low compared to those with smoking habits."
   ]
  },
  {
   "cell_type": "markdown",
   "id": "happy-electricity",
   "metadata": {},
   "source": [
    "The boxplots depicts numerical data through a box (quartiles) which shows the interquartile range, maximum and minimum values, the mean and also outliers which exist outside of the plot. "
   ]
  }
 ],
 "metadata": {
  "kernelspec": {
   "display_name": "Python 3",
   "language": "python",
   "name": "python3"
  },
  "language_info": {
   "codemirror_mode": {
    "name": "ipython",
    "version": 3
   },
   "file_extension": ".py",
   "mimetype": "text/x-python",
   "name": "python",
   "nbconvert_exporter": "python",
   "pygments_lexer": "ipython3",
   "version": "3.8.5"
  }
 },
 "nbformat": 4,
 "nbformat_minor": 5
}
