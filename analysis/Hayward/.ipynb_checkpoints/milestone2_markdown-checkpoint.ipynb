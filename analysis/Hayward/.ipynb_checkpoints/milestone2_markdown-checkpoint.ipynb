{
 "cells": [
  {
   "cell_type": "markdown",
   "id": "stable-steps",
   "metadata": {},
   "source": [
    "# Milestone 2 Task 1"
   ]
  },
  {
   "cell_type": "markdown",
   "id": "integrated-maryland",
   "metadata": {},
   "source": [
    "Hayward Chow (Student no. 28684314)\n",
    "\n",
    "---"
   ]
  },
  {
   "cell_type": "markdown",
   "id": "optimum-plant",
   "metadata": {},
   "source": [
    "This is just a jupyter notebook to show that I understand and can use markdown elements.\n",
    "# Big Header\n",
    "## Header\n",
    "### Smaller Header\n",
    "\n",
    "*This is italicized*\n",
    "\n",
    "**This is bold**\n",
    "\n",
    "---"
   ]
  }
 ],
 "metadata": {
  "kernelspec": {
   "display_name": "Python 3",
   "language": "python",
   "name": "python3"
  },
  "language_info": {
   "codemirror_mode": {
    "name": "ipython",
    "version": 3
   },
   "file_extension": ".py",
   "mimetype": "text/x-python",
   "name": "python",
   "nbconvert_exporter": "python",
   "pygments_lexer": "ipython3",
   "version": "3.8.5"
  }
 },
 "nbformat": 4,
 "nbformat_minor": 5
}
